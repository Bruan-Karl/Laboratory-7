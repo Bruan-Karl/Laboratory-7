{
  "nbformat": 4,
  "nbformat_minor": 0,
  "metadata": {
    "colab": {
      "name": "LinAlg_LAb7",
      "provenance": [],
      "authorship_tag": "ABX9TyMNj1VxE4uyDDUQtpX+yGgA",
      "include_colab_link": true
    },
    "kernelspec": {
      "name": "python3",
      "display_name": "Python 3"
    },
    "language_info": {
      "name": "python"
    }
  },
  "cells": [
    {
      "cell_type": "markdown",
      "metadata": {
        "id": "view-in-github",
        "colab_type": "text"
      },
      "source": [
        "<a href=\"https://colab.research.google.com/github/R0ckie/Laboratory-7/blob/main/LinAlg_LAb7.ipynb\" target=\"_parent\"><img src=\"https://colab.research.google.com/assets/colab-badge.svg\" alt=\"Open In Colab\"/></a>"
      ]
    },
    {
      "cell_type": "code",
      "metadata": {
        "colab": {
          "base_uri": "https://localhost:8080/"
        },
        "id": "aHWPB-rs5K_a",
        "outputId": "6b9238a3-6cd3-4f51-ed31-461c69b3cbb5"
      },
      "source": [
        "import numpy as np\n",
        "import matplotlib.pyplot as plt\n",
        "%matplotlib inline\n",
        "\n",
        "K = np.array([[2,1,7],\n",
        "              [4,6,5],\n",
        "              [1,2,3]])\n",
        "A = np.array([[1,2,3],\n",
        "              [4,5,6],\n",
        "              [7,8,9]])\n",
        "R = np.identity(3)\n",
        "L = np.array([[9,9,9],\n",
        "               [5,5,5],\n",
        "               [3,4,5]])\n",
        "D = np.zeros([3,3])\n",
        "B = np.ones([3,4])\n",
        "\n",
        "\n",
        "def Distributive (matrix1, matrix2, matrix3):\n",
        "  # A(B+C)=AB+AC = equation\n",
        "  DPa_bc = matrix1.dot(matrix2 + matrix3)\n",
        "  print(\"Distributive: \\n\" , DPa_bc)\n",
        "  print('--------------------')\n",
        "  DPab_c = matrix3.dot(matrix2 + matrix1)\n",
        "  print(DPab_c)\n",
        "  print('********************')\n",
        "Distributive(K,A,L)\n",
        "\n",
        "def Associative(matrix1, matrix2, matrix3):\n",
        "  #A(BC)=(AB)C = equation\n",
        "  #A(BC): \n",
        "  APa_bc = matrix1.dot(matrix2.dot(matrix3))\n",
        "  print(\"Associative : \\n\",  APa_bc)\n",
        "  print('--------------------')\n",
        "  #(AB)C:\n",
        "  APab_c =(matrix1.dot(matrix2)).dot(matrix3)\n",
        "  print(APab_c)\n",
        "  print('********************')  \n",
        "Associative(K,A,R)\n",
        "\n",
        "def notCommutative (matrix1,matrix2):\n",
        "  # AB≠BA\n",
        "  #AB\n",
        "  notCom_ab = np.dot(matrix1,matrix2)\n",
        "  print(\"Not Commutative: \\n\" , notCom_ab)\n",
        "  print('--------------------')\n",
        "  #BA\n",
        "  notCom_ba = np.dot(matrix2,matrix1)\n",
        "  print(notCom_ba)\n",
        "  print('********************')  \n",
        "notCommutative(K,A)\n",
        "\n",
        "def multiIdentity (matrix1, I):\n",
        "  multiId = np.dot(matrix1, I)\n",
        "  print(\"Mutiplicative Identity: \\n\", multiId)\n",
        "  print('********************')  \n",
        "multiIdentity(A,R)\n",
        "\n",
        "def mutiIdentityZero (matrix1, Zero):\n",
        "  multiIdZero = np.dot(matrix1, Zero)\n",
        "  print(\"Mutiplicative Identity Zero: \\n\",multiIdZero)\n",
        "  print('********************')  \n",
        "mutiIdentityZero(K,D)\n",
        "\n",
        "def dimensionProperty (matrix1, matrix2):\n",
        "  d1 = matrix1.shape[0]\n",
        "  d2 = matrix2.shape[1]\n",
        "  print(\"Dimension Property: \\n\", d1,d2)\n",
        "dimensionProperty(A,R)\n",
        "\n",
        "\n"
      ],
      "execution_count": null,
      "outputs": [
        {
          "output_type": "stream",
          "text": [
            "Distributive: \n",
            " [[ 99 116 133]\n",
            " [144 164 184]\n",
            " [ 58  67  76]]\n",
            "--------------------\n",
            "[[171 216 297]\n",
            " [ 95 120 165]\n",
            " [ 81 103 134]]\n",
            "********************\n",
            "Associative : \n",
            " [[55. 65. 75.]\n",
            " [63. 78. 93.]\n",
            " [30. 36. 42.]]\n",
            "--------------------\n",
            "[[55. 65. 75.]\n",
            " [63. 78. 93.]\n",
            " [30. 36. 42.]]\n",
            "********************\n",
            "Not Commutative: \n",
            " [[55 65 75]\n",
            " [63 78 93]\n",
            " [30 36 42]]\n",
            "--------------------\n",
            "[[ 13  19  26]\n",
            " [ 34  46  71]\n",
            " [ 55  73 116]]\n",
            "********************\n",
            "Mutiplicative Identity: \n",
            " [[1. 2. 3.]\n",
            " [4. 5. 6.]\n",
            " [7. 8. 9.]]\n",
            "********************\n",
            "Mutiplicative Identity Zero: \n",
            " [[0. 0. 0.]\n",
            " [0. 0. 0.]\n",
            " [0. 0. 0.]]\n",
            "********************\n",
            "Dimension Property: \n",
            " 3 3\n"
          ],
          "name": "stdout"
        }
      ]
    }
  ]
}